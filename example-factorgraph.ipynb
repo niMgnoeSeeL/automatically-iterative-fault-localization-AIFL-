{
 "cells": [
  {
   "cell_type": "markdown",
   "metadata": {},
   "source": [
    "### Example program\n",
    "\n",
    "- From *Kernel-based Detection of Coincidentally Correct Test Cases to Improve Fault Localization Effectiveness*\n",
    "\n",
    "```c\n",
    " e1: int Sample(int a, int b, int c) {\n",
    " e2:    int rsum, rdiv, result, rlog=0;\n",
    " e3:    result = 0;\n",
    " e4:    rdiv = 1;\n",
    " e5:    rsum = a + b;\n",
    " e6:    if ((a > 0) && (b > 0))\n",
    " e7:        rdiv = a / b;\n",
    " e8:    rmax = b;\n",
    " e9:    if (a > b)\n",
    "e10:        rmax = b; // Correct: rmax = a;\n",
    "e11:    if (c == 1)\n",
    "e12:        result = rsum;\n",
    "e13:    if (c == 2)\n",
    "e14:        result = rdiv;\n",
    "e15:    if (c == 3)\n",
    "e16:        result = rmax;\n",
    "e17:    return result;\n",
    "     }\n",
    "```"
   ]
  },
  {
   "cell_type": "markdown",
   "metadata": {},
   "source": [
    "# SBFL on example program"
   ]
  },
  {
   "cell_type": "code",
   "execution_count": 15,
   "metadata": {},
   "outputs": [
    {
     "data": {
      "text/html": [
       "<div>\n",
       "<style scoped>\n",
       "    .dataframe tbody tr th:only-of-type {\n",
       "        vertical-align: middle;\n",
       "    }\n",
       "\n",
       "    .dataframe tbody tr th {\n",
       "        vertical-align: top;\n",
       "    }\n",
       "\n",
       "    .dataframe thead th {\n",
       "        text-align: right;\n",
       "    }\n",
       "</style>\n",
       "<table border=\"1\" class=\"dataframe\">\n",
       "  <thead>\n",
       "    <tr style=\"text-align: right;\">\n",
       "      <th></th>\n",
       "      <th>idx</th>\n",
       "      <th>op2</th>\n",
       "      <th>rank</th>\n",
       "    </tr>\n",
       "  </thead>\n",
       "  <tbody>\n",
       "    <tr>\n",
       "      <th>1</th>\n",
       "      <td>e7</td>\n",
       "      <td>0.666667</td>\n",
       "      <td>1.5</td>\n",
       "    </tr>\n",
       "    <tr>\n",
       "      <th>10</th>\n",
       "      <td>e16</td>\n",
       "      <td>0.666667</td>\n",
       "      <td>1.5</td>\n",
       "    </tr>\n",
       "    <tr>\n",
       "      <th>4</th>\n",
       "      <td>e10</td>\n",
       "      <td>0.500000</td>\n",
       "      <td>3.0</td>\n",
       "    </tr>\n",
       "    <tr>\n",
       "      <th>0</th>\n",
       "      <td>e6</td>\n",
       "      <td>0.166667</td>\n",
       "      <td>7.0</td>\n",
       "    </tr>\n",
       "    <tr>\n",
       "      <th>2</th>\n",
       "      <td>e8</td>\n",
       "      <td>0.166667</td>\n",
       "      <td>7.0</td>\n",
       "    </tr>\n",
       "    <tr>\n",
       "      <th>3</th>\n",
       "      <td>e9</td>\n",
       "      <td>0.166667</td>\n",
       "      <td>7.0</td>\n",
       "    </tr>\n",
       "    <tr>\n",
       "      <th>5</th>\n",
       "      <td>e11</td>\n",
       "      <td>0.166667</td>\n",
       "      <td>7.0</td>\n",
       "    </tr>\n",
       "    <tr>\n",
       "      <th>7</th>\n",
       "      <td>e13</td>\n",
       "      <td>0.166667</td>\n",
       "      <td>7.0</td>\n",
       "    </tr>\n",
       "    <tr>\n",
       "      <th>9</th>\n",
       "      <td>e15</td>\n",
       "      <td>0.166667</td>\n",
       "      <td>7.0</td>\n",
       "    </tr>\n",
       "    <tr>\n",
       "      <th>11</th>\n",
       "      <td>e17</td>\n",
       "      <td>0.166667</td>\n",
       "      <td>7.0</td>\n",
       "    </tr>\n",
       "    <tr>\n",
       "      <th>6</th>\n",
       "      <td>e12</td>\n",
       "      <td>-0.166667</td>\n",
       "      <td>11.0</td>\n",
       "    </tr>\n",
       "    <tr>\n",
       "      <th>8</th>\n",
       "      <td>e14</td>\n",
       "      <td>-0.333333</td>\n",
       "      <td>12.0</td>\n",
       "    </tr>\n",
       "  </tbody>\n",
       "</table>\n",
       "</div>"
      ],
      "text/plain": [
       "    idx       op2  rank\n",
       "1    e7  0.666667   1.5\n",
       "10  e16  0.666667   1.5\n",
       "4   e10  0.500000   3.0\n",
       "0    e6  0.166667   7.0\n",
       "2    e8  0.166667   7.0\n",
       "3    e9  0.166667   7.0\n",
       "5   e11  0.166667   7.0\n",
       "7   e13  0.166667   7.0\n",
       "9   e15  0.166667   7.0\n",
       "11  e17  0.166667   7.0\n",
       "6   e12 -0.166667  11.0\n",
       "8   e14 -0.333333  12.0"
      ]
     },
     "execution_count": 15,
     "metadata": {},
     "output_type": "execute_result"
    }
   ],
   "source": [
    "import pandas as pd\n",
    "\n",
    "idxs = [\n",
    "    \"e6\",\n",
    "    \"e7\",\n",
    "    \"e8\",\n",
    "    \"e9\",\n",
    "    \"e10\",\n",
    "    \"e11\",\n",
    "    \"e12\",\n",
    "    \"e13\",\n",
    "    \"e14\",\n",
    "    \"e15\",\n",
    "    \"e16\",\n",
    "    \"e17\",\n",
    "]\n",
    "\n",
    "exec1_et = [0, 1, 2, 3, 4, 5, 7, 9, 10, 11]\n",
    "exec2_et = [0, 2, 3, 4, 5, 7, 8, 9, 11]\n",
    "exec2_et_2 = [0, 2, 3, 4, 5, 7, 8, 9, 11]\n",
    "exec3_et = [0, 2, 3, 5, 7, 9, 10, 11]\n",
    "exec4_et = [0, 1, 2, 3, 4, 5, 6, 7, 9, 11]\n",
    "exec5_et = [0, 1, 2, 3, 5, 7, 9, 10, 11]\n",
    "\n",
    "execs = [exec1_et, exec2_et, exec2_et_2, exec3_et, exec4_et, exec5_et]\n",
    "\n",
    "results = [1, 0, 0, 0, 0, 0]\n",
    "op2s = []\n",
    "for i in range(12):\n",
    "    ep, ef = 0, 0\n",
    "    for exec, result in zip(execs, results):\n",
    "        if i in exec:\n",
    "            if result:\n",
    "                ef += 1\n",
    "            else:\n",
    "                ep += 1\n",
    "    op2 = ef - ep / (len(results) - sum(results) + 1)\n",
    "    op2s.append(op2)\n",
    "\n",
    "df = pd.DataFrame({\"idx\": idxs, \"op2\": op2s})\n",
    "df[\"rank\"] = df.op2.rank(ascending=False)\n",
    "df.sort_values(by=\"rank\", inplace=True)\n",
    "df\n"
   ]
  },
  {
   "cell_type": "markdown",
   "metadata": {},
   "source": [
    "# Create a factor graph of example program"
   ]
  },
  {
   "cell_type": "code",
   "execution_count": 16,
   "metadata": {},
   "outputs": [
    {
     "name": "stdout",
     "output_type": "stream",
     "text": [
      "The autoreload extension is already loaded. To reload it, use:\n",
      "  %reload_ext autoreload\n",
      "VariableNode(name=e6, val=None, fixed=False, prob=None)\n",
      "VariableNode(name=e7, val=None, fixed=False, prob=None)\n",
      "VariableNode(name=e8, val=None, fixed=False, prob=None)\n",
      "VariableNode(name=e9, val=None, fixed=False, prob=None)\n",
      "VariableNode(name=e10, val=None, fixed=False, prob=None)\n",
      "VariableNode(name=e11, val=None, fixed=False, prob=None)\n",
      "VariableNode(name=e12, val=None, fixed=False, prob=None)\n",
      "VariableNode(name=e13, val=None, fixed=False, prob=None)\n",
      "VariableNode(name=e14, val=None, fixed=False, prob=None)\n",
      "VariableNode(name=e15, val=None, fixed=False, prob=None)\n",
      "VariableNode(name=e16, val=None, fixed=False, prob=None)\n",
      "VariableNode(name=e17, val=None, fixed=False, prob=None)\n",
      "VariableNode(name=exec1_et, val=1, fixed=True, prob=None)\n",
      "VariableNode(name=exec2_et, val=0, fixed=True, prob=None)\n",
      "VariableNode(name=exec2_et_2, val=0, fixed=True, prob=None)\n",
      "VariableNode(name=exec3_et, val=0, fixed=True, prob=None)\n",
      "VariableNode(name=exec4_et, val=0, fixed=True, prob=None)\n",
      "VariableNode(name=exec5_et, val=0, fixed=True, prob=None)\n",
      "FactorNode(name=exec1_et, formula=prob_match(V[exec1_et], [V[e6], V[e7], V[e8], V[e9], V[e10], V[e11], V[e13], V[e15], V[e16], V[e17]]), prob=None)\n",
      "FactorNode(name=exec2_et, formula=prob_match(V[exec2_et], [V[e6], V[e8], V[e9], V[e10], V[e11], V[e13], V[e14], V[e15], V[e17]]), prob=None)\n",
      "FactorNode(name=exec2_et_2, formula=prob_match(V[exec2_et_2], [V[e6], V[e8], V[e9], V[e10], V[e11], V[e13], V[e14], V[e15], V[e17]]), prob=None)\n",
      "FactorNode(name=exec3_et, formula=prob_match(V[exec3_et], [V[e6], V[e8], V[e9], V[e11], V[e13], V[e15], V[e16], V[e17]]), prob=None)\n",
      "FactorNode(name=exec4_et, formula=prob_match(V[exec4_et], [V[e6], V[e7], V[e8], V[e9], V[e10], V[e11], V[e12], V[e13], V[e15], V[e17]]), prob=None)\n",
      "FactorNode(name=exec5_et, formula=prob_match(V[exec5_et], [V[e6], V[e7], V[e8], V[e9], V[e11], V[e13], V[e15], V[e16], V[e17]]), prob=None)\n",
      "\n"
     ]
    }
   ],
   "source": [
    "%load_ext autoreload\n",
    "%autoreload 2\n",
    "\n",
    "from factorgraph import FactorNode, VariableNode, FactorGraph\n",
    "\n",
    "variable_list = [VariableNode(idx) for idx in idxs]\n",
    "exec_names = [    \n",
    "    \"exec1_et\",\n",
    "    \"exec2_et\",\n",
    "    \"exec2_et_2\",\n",
    "    \"exec3_et\",\n",
    "    \"exec4_et\",\n",
    "    \"exec5_et\",\n",
    "]\n",
    "for exec_name, result in zip(exec_names, results):\n",
    "    testnode = VariableNode(exec_name)\n",
    "    testnode.val = result\n",
    "    testnode.fix()\n",
    "    variable_list.append(testnode)\n",
    "\n",
    "def prob_succ(elem_faulty):\n",
    "    # This one is ad-hoc one.\n",
    "    num_f = sum(elem_faulty)\n",
    "    num_c = len(elem_faulty) - num_f\n",
    "    return 0.01 ** (num_f / 1.1 ** num_c) \n",
    "\n",
    "def prob_match(result, elem_faulty):\n",
    "    return 1 - prob_succ(elem_faulty) if result else prob_succ(elem_faulty)\n",
    "\n",
    "scope = {\"prob_succ\": prob_succ, \"prob_match\": prob_match}\n",
    "\n",
    "factor_list = []\n",
    "for exec_name, et in zip(exec_names, execs):\n",
    "    covered_elems = [idxs[i] for i in et]\n",
    "    param_str = \", \".join([f\"V[{elem}]\" for elem in covered_elems])\n",
    "    factor_node = FactorNode(\n",
    "        exec_name, f\"prob_match(V[{exec_name}], [{param_str}])\")\n",
    "    factor_list.append(factor_node)\n",
    "\n",
    "\n",
    "factor_graph = FactorGraph(variable_list, factor_list)\n",
    "print(factor_graph)"
   ]
  },
  {
   "cell_type": "markdown",
   "metadata": {},
   "source": [
    "# Infer the random values that maximize the probability"
   ]
  },
  {
   "cell_type": "code",
   "execution_count": 22,
   "metadata": {},
   "outputs": [
    {
     "name": "stdout",
     "output_type": "stream",
     "text": [
      "inference_exhaustive\n",
      "num cases: 4096\n",
      "VariableNode(name=e6, val=0, fixed=False, prob=None)49973297119145\n",
      "VariableNode(name=e7, val=1, fixed=False, prob=None)\n",
      "VariableNode(name=e8, val=0, fixed=False, prob=None)\n",
      "VariableNode(name=e9, val=0, fixed=False, prob=None)\n",
      "VariableNode(name=e10, val=0, fixed=False, prob=None)\n",
      "VariableNode(name=e11, val=0, fixed=False, prob=None)\n",
      "VariableNode(name=e12, val=0, fixed=False, prob=None)\n",
      "VariableNode(name=e13, val=0, fixed=False, prob=None)\n",
      "VariableNode(name=e14, val=0, fixed=False, prob=None)\n",
      "VariableNode(name=e15, val=0, fixed=False, prob=None)\n",
      "VariableNode(name=e16, val=0, fixed=False, prob=None)\n",
      "VariableNode(name=e17, val=0, fixed=False, prob=None)\n",
      "VariableNode(name=exec1_et, val=1, fixed=True, prob=None)\n",
      "VariableNode(name=exec2_et, val=0, fixed=True, prob=None)\n",
      "VariableNode(name=exec2_et_2, val=0, fixed=True, prob=None)\n",
      "VariableNode(name=exec3_et, val=0, fixed=True, prob=None)\n",
      "VariableNode(name=exec4_et, val=0, fixed=True, prob=None)\n",
      "VariableNode(name=exec5_et, val=0, fixed=True, prob=None)\n",
      "FactorNode(name=exec1_et, formula=prob_match(V[exec1_et], [V[e6], V[e7], V[e8], V[e9], V[e10], V[e11], V[e13], V[e15], V[e16], V[e17]]), prob=0.8581580271140514)\n",
      "FactorNode(name=exec2_et, formula=prob_match(V[exec2_et], [V[e6], V[e8], V[e9], V[e10], V[e11], V[e13], V[e14], V[e15], V[e17]]), prob=1.0)\n",
      "FactorNode(name=exec2_et_2, formula=prob_match(V[exec2_et_2], [V[e6], V[e8], V[e9], V[e10], V[e11], V[e13], V[e14], V[e15], V[e17]]), prob=1.0)\n",
      "FactorNode(name=exec3_et, formula=prob_match(V[exec3_et], [V[e6], V[e8], V[e9], V[e11], V[e13], V[e15], V[e16], V[e17]]), prob=1.0)\n",
      "FactorNode(name=exec4_et, formula=prob_match(V[exec4_et], [V[e6], V[e7], V[e8], V[e9], V[e10], V[e11], V[e12], V[e13], V[e15], V[e17]]), prob=0.14184197288594855)\n",
      "FactorNode(name=exec5_et, formula=prob_match(V[exec5_et], [V[e6], V[e7], V[e8], V[e9], V[e11], V[e13], V[e15], V[e16], V[e17]]), prob=0.11667699612342536)\n",
      "\n"
     ]
    }
   ],
   "source": [
    "factor_graph.inference_exhaustive(scope)\n",
    "print(factor_graph)"
   ]
  },
  {
   "cell_type": "markdown",
   "metadata": {},
   "source": [
    "e7 is nominated as a buggy element, but it is not a bug.\n",
    "Therefore, set e7 not buggy."
   ]
  },
  {
   "cell_type": "code",
   "execution_count": 4,
   "metadata": {},
   "outputs": [
    {
     "name": "stdout",
     "output_type": "stream",
     "text": [
      "VariableNode(name=e7, val=0, fixed=True, prob=None)\n"
     ]
    }
   ],
   "source": [
    "v_e7 = factor_graph.get_variable(\"e7\")\n",
    "v_e7.val = 0\n",
    "v_e7.fix()\n",
    "print(v_e7)"
   ]
  },
  {
   "cell_type": "markdown",
   "metadata": {},
   "source": [
    "Do inference again"
   ]
  },
  {
   "cell_type": "code",
   "execution_count": 5,
   "metadata": {},
   "outputs": [
    {
     "name": "stdout",
     "output_type": "stream",
     "text": [
      "VariableNode(name=e6, val=0, fixed=False, prob=None)\n",
      "VariableNode(name=e7, val=0, fixed=True, prob=None)\n",
      "VariableNode(name=e8, val=0, fixed=False, prob=None)\n",
      "VariableNode(name=e9, val=0, fixed=False, prob=None)\n",
      "VariableNode(name=e10, val=0, fixed=False, prob=None)\n",
      "VariableNode(name=e11, val=0, fixed=False, prob=None)\n",
      "VariableNode(name=e12, val=0, fixed=False, prob=None)\n",
      "VariableNode(name=e13, val=0, fixed=False, prob=None)\n",
      "VariableNode(name=e14, val=0, fixed=False, prob=None)\n",
      "VariableNode(name=e15, val=0, fixed=False, prob=None)\n",
      "VariableNode(name=e16, val=1, fixed=False, prob=None)\n",
      "VariableNode(name=e17, val=0, fixed=False, prob=None)\n",
      "VariableNode(name=exec1_et, val=1, fixed=True, prob=None)\n",
      "VariableNode(name=exec2_et, val=0, fixed=True, prob=None)\n",
      "VariableNode(name=exec2_et_2, val=0, fixed=True, prob=None)\n",
      "VariableNode(name=exec3_et, val=0, fixed=True, prob=None)\n",
      "VariableNode(name=exec4_et, val=0, fixed=True, prob=None)\n",
      "VariableNode(name=exec5_et, val=0, fixed=True, prob=None)\n",
      "FactorNode(name=exec1_et, formula=prob_match(V[exec1_et], [V[e6], V[e7], V[e8], V[e9], V[e10], V[e11], V[e13], V[e15], V[e16], V[e17]]), prob=0.8581580271140514)\n",
      "FactorNode(name=exec2_et, formula=prob_match(V[exec2_et], [V[e6], V[e8], V[e9], V[e10], V[e11], V[e13], V[e14], V[e15], V[e17]]), prob=1.0)\n",
      "FactorNode(name=exec2_et_2, formula=prob_match(V[exec2_et_2], [V[e6], V[e8], V[e9], V[e10], V[e11], V[e13], V[e14], V[e15], V[e17]]), prob=1.0)\n",
      "FactorNode(name=exec3_et, formula=prob_match(V[exec3_et], [V[e6], V[e8], V[e9], V[e11], V[e13], V[e15], V[e16], V[e17]]), prob=0.09412039985547362)\n",
      "FactorNode(name=exec4_et, formula=prob_match(V[exec4_et], [V[e6], V[e7], V[e8], V[e9], V[e10], V[e11], V[e12], V[e13], V[e15], V[e17]]), prob=1.0)\n",
      "FactorNode(name=exec5_et, formula=prob_match(V[exec5_et], [V[e6], V[e7], V[e8], V[e9], V[e11], V[e13], V[e15], V[e16], V[e17]]), prob=0.11667699612342536)\n",
      "\n"
     ]
    }
   ],
   "source": [
    "factor_graph.reset()\n",
    "factor_graph.inference_exhaustive(scope)\n",
    "print(factor_graph)"
   ]
  },
  {
   "cell_type": "markdown",
   "metadata": {},
   "source": [
    "Then, e16 is nominated as a buggy element, but it is neither a bug.\n",
    "Again, set e16 not buggy."
   ]
  },
  {
   "cell_type": "code",
   "execution_count": 6,
   "metadata": {},
   "outputs": [
    {
     "name": "stdout",
     "output_type": "stream",
     "text": [
      "VariableNode(name=e16, val=0, fixed=True, prob=None)\n"
     ]
    }
   ],
   "source": [
    "v_e16 = factor_graph.get_variable(\"e16\")\n",
    "v_e16.val = 0\n",
    "v_e16.fix()\n",
    "print(v_e16)"
   ]
  },
  {
   "cell_type": "code",
   "execution_count": 7,
   "metadata": {},
   "outputs": [
    {
     "name": "stdout",
     "output_type": "stream",
     "text": [
      "VariableNode(name=e6, val=0, fixed=False, prob=None)\n",
      "VariableNode(name=e7, val=0, fixed=True, prob=None)\n",
      "VariableNode(name=e8, val=0, fixed=False, prob=None)\n",
      "VariableNode(name=e9, val=0, fixed=False, prob=None)\n",
      "VariableNode(name=e10, val=1, fixed=False, prob=None)\n",
      "VariableNode(name=e11, val=0, fixed=False, prob=None)\n",
      "VariableNode(name=e12, val=0, fixed=False, prob=None)\n",
      "VariableNode(name=e13, val=0, fixed=False, prob=None)\n",
      "VariableNode(name=e14, val=0, fixed=False, prob=None)\n",
      "VariableNode(name=e15, val=0, fixed=False, prob=None)\n",
      "VariableNode(name=e16, val=0, fixed=True, prob=None)\n",
      "VariableNode(name=e17, val=0, fixed=False, prob=None)\n",
      "VariableNode(name=exec1_et, val=1, fixed=True, prob=None)\n",
      "VariableNode(name=exec2_et, val=0, fixed=True, prob=None)\n",
      "VariableNode(name=exec2_et_2, val=0, fixed=True, prob=None)\n",
      "VariableNode(name=exec3_et, val=0, fixed=True, prob=None)\n",
      "VariableNode(name=exec4_et, val=0, fixed=True, prob=None)\n",
      "VariableNode(name=exec5_et, val=0, fixed=True, prob=None)\n",
      "FactorNode(name=exec1_et, formula=prob_match(V[exec1_et], [V[e6], V[e7], V[e8], V[e9], V[e10], V[e11], V[e13], V[e15], V[e16], V[e17]]), prob=0.8581580271140514)\n",
      "FactorNode(name=exec2_et, formula=prob_match(V[exec2_et], [V[e6], V[e8], V[e9], V[e10], V[e11], V[e13], V[e14], V[e15], V[e17]]), prob=0.11667699612342536)\n",
      "FactorNode(name=exec2_et_2, formula=prob_match(V[exec2_et_2], [V[e6], V[e8], V[e9], V[e10], V[e11], V[e13], V[e14], V[e15], V[e17]]), prob=0.11667699612342536)\n",
      "FactorNode(name=exec3_et, formula=prob_match(V[exec3_et], [V[e6], V[e8], V[e9], V[e11], V[e13], V[e15], V[e16], V[e17]]), prob=1.0)\n",
      "FactorNode(name=exec4_et, formula=prob_match(V[exec4_et], [V[e6], V[e7], V[e8], V[e9], V[e10], V[e11], V[e12], V[e13], V[e15], V[e17]]), prob=0.14184197288594855)\n",
      "FactorNode(name=exec5_et, formula=prob_match(V[exec5_et], [V[e6], V[e7], V[e8], V[e9], V[e11], V[e13], V[e15], V[e16], V[e17]]), prob=1.0)\n",
      "\n"
     ]
    }
   ],
   "source": [
    "factor_graph.reset()\n",
    "factor_graph.inference_exhaustive(scope)\n",
    "print(factor_graph)"
   ]
  },
  {
   "cell_type": "markdown",
   "metadata": {},
   "source": [
    "Finally e10 is nominated."
   ]
  },
  {
   "cell_type": "markdown",
   "metadata": {},
   "source": [
    "# marginal inference"
   ]
  },
  {
   "cell_type": "markdown",
   "metadata": {},
   "source": [
    "reset the factor graph"
   ]
  },
  {
   "cell_type": "code",
   "execution_count": 8,
   "metadata": {},
   "outputs": [
    {
     "name": "stdout",
     "output_type": "stream",
     "text": [
      "VariableNode(name=e6, val=None, fixed=False, prob=None)\n",
      "VariableNode(name=e7, val=None, fixed=False, prob=None)\n",
      "VariableNode(name=e8, val=None, fixed=False, prob=None)\n",
      "VariableNode(name=e9, val=None, fixed=False, prob=None)\n",
      "VariableNode(name=e10, val=None, fixed=False, prob=None)\n",
      "VariableNode(name=e11, val=None, fixed=False, prob=None)\n",
      "VariableNode(name=e12, val=None, fixed=False, prob=None)\n",
      "VariableNode(name=e13, val=None, fixed=False, prob=None)\n",
      "VariableNode(name=e14, val=None, fixed=False, prob=None)\n",
      "VariableNode(name=e15, val=None, fixed=False, prob=None)\n",
      "VariableNode(name=e16, val=None, fixed=False, prob=None)\n",
      "VariableNode(name=e17, val=None, fixed=False, prob=None)\n",
      "VariableNode(name=exec1_et, val=1, fixed=True, prob=None)\n",
      "VariableNode(name=exec2_et, val=0, fixed=True, prob=None)\n",
      "VariableNode(name=exec2_et_2, val=0, fixed=True, prob=None)\n",
      "VariableNode(name=exec3_et, val=0, fixed=True, prob=None)\n",
      "VariableNode(name=exec4_et, val=0, fixed=True, prob=None)\n",
      "VariableNode(name=exec5_et, val=0, fixed=True, prob=None)\n",
      "FactorNode(name=exec1_et, formula=prob_match(V[exec1_et], [V[e6], V[e7], V[e8], V[e9], V[e10], V[e11], V[e13], V[e15], V[e16], V[e17]]), prob=None)\n",
      "FactorNode(name=exec2_et, formula=prob_match(V[exec2_et], [V[e6], V[e8], V[e9], V[e10], V[e11], V[e13], V[e14], V[e15], V[e17]]), prob=None)\n",
      "FactorNode(name=exec2_et_2, formula=prob_match(V[exec2_et_2], [V[e6], V[e8], V[e9], V[e10], V[e11], V[e13], V[e14], V[e15], V[e17]]), prob=None)\n",
      "FactorNode(name=exec3_et, formula=prob_match(V[exec3_et], [V[e6], V[e8], V[e9], V[e11], V[e13], V[e15], V[e16], V[e17]]), prob=None)\n",
      "FactorNode(name=exec4_et, formula=prob_match(V[exec4_et], [V[e6], V[e7], V[e8], V[e9], V[e10], V[e11], V[e12], V[e13], V[e15], V[e17]]), prob=None)\n",
      "FactorNode(name=exec5_et, formula=prob_match(V[exec5_et], [V[e6], V[e7], V[e8], V[e9], V[e11], V[e13], V[e15], V[e16], V[e17]]), prob=None)\n",
      "\n"
     ]
    }
   ],
   "source": [
    "v_e7.unfix()\n",
    "v_e16.unfix()\n",
    "factor_graph.reset()\n",
    "print(factor_graph)"
   ]
  },
  {
   "cell_type": "markdown",
   "metadata": {},
   "source": [
    "Run marginal inference"
   ]
  },
  {
   "cell_type": "code",
   "execution_count": 9,
   "metadata": {},
   "outputs": [
    {
     "name": "stdout",
     "output_type": "stream",
     "text": [
      "VariableNode(name=e6, val=None, fixed=False, prob=0.0007054557522498677)\n",
      "VariableNode(name=e7, val=None, fixed=False, prob=0.5525999148831645)\n",
      "VariableNode(name=e8, val=None, fixed=False, prob=0.0007054557522498677)\n",
      "VariableNode(name=e9, val=None, fixed=False, prob=0.0007054557522498677)\n",
      "VariableNode(name=e10, val=None, fixed=False, prob=0.06495750980594928)\n",
      "VariableNode(name=e11, val=None, fixed=False, prob=0.0007054557522498682)\n",
      "VariableNode(name=e12, val=None, fixed=False, prob=0.10141314421407767)\n",
      "VariableNode(name=e13, val=None, fixed=False, prob=0.0007054557522498682)\n",
      "VariableNode(name=e14, val=None, fixed=False, prob=0.012892555304154726)\n",
      "VariableNode(name=e15, val=None, fixed=False, prob=0.0007054557522498678)\n",
      "VariableNode(name=e16, val=None, fixed=False, prob=0.38366818946756365)\n",
      "VariableNode(name=e17, val=None, fixed=False, prob=0.0007054557522498679)\n",
      "VariableNode(name=exec1_et, val=1, fixed=True, prob=None)\n",
      "VariableNode(name=exec2_et, val=0, fixed=True, prob=None)\n",
      "VariableNode(name=exec2_et_2, val=0, fixed=True, prob=None)\n",
      "VariableNode(name=exec3_et, val=0, fixed=True, prob=None)\n",
      "VariableNode(name=exec4_et, val=0, fixed=True, prob=None)\n",
      "VariableNode(name=exec5_et, val=0, fixed=True, prob=None)\n",
      "FactorNode(name=exec1_et, formula=prob_match(V[exec1_et], [V[e6], V[e7], V[e8], V[e9], V[e10], V[e11], V[e13], V[e15], V[e16], V[e17]]), prob=None)\n",
      "FactorNode(name=exec2_et, formula=prob_match(V[exec2_et], [V[e6], V[e8], V[e9], V[e10], V[e11], V[e13], V[e14], V[e15], V[e17]]), prob=None)\n",
      "FactorNode(name=exec2_et_2, formula=prob_match(V[exec2_et_2], [V[e6], V[e8], V[e9], V[e10], V[e11], V[e13], V[e14], V[e15], V[e17]]), prob=None)\n",
      "FactorNode(name=exec3_et, formula=prob_match(V[exec3_et], [V[e6], V[e8], V[e9], V[e11], V[e13], V[e15], V[e16], V[e17]]), prob=None)\n",
      "FactorNode(name=exec4_et, formula=prob_match(V[exec4_et], [V[e6], V[e7], V[e8], V[e9], V[e10], V[e11], V[e12], V[e13], V[e15], V[e17]]), prob=None)\n",
      "FactorNode(name=exec5_et, formula=prob_match(V[exec5_et], [V[e6], V[e7], V[e8], V[e9], V[e11], V[e13], V[e15], V[e16], V[e17]]), prob=None)\n",
      "\n"
     ]
    }
   ],
   "source": [
    "factor_graph.marginal_inference_exhaustive(scope)\n",
    "print(factor_graph)"
   ]
  },
  {
   "cell_type": "markdown",
   "metadata": {},
   "source": [
    "order of suspiciousness: [e7, e16, e12, e10, ...]\n",
    "\n",
    "Q. e12가 3등인 이유가 뭘까?"
   ]
  },
  {
   "cell_type": "code",
   "execution_count": 10,
   "metadata": {},
   "outputs": [
    {
     "name": "stdout",
     "output_type": "stream",
     "text": [
      "VariableNode(name=e6, val=0, fixed=False, prob=None)\n",
      "VariableNode(name=e7, val=1, fixed=False, prob=None)\n",
      "VariableNode(name=e8, val=0, fixed=False, prob=None)\n",
      "VariableNode(name=e9, val=0, fixed=False, prob=None)\n",
      "VariableNode(name=e10, val=1, fixed=False, prob=None)\n",
      "VariableNode(name=e11, val=0, fixed=False, prob=None)\n",
      "VariableNode(name=e12, val=0, fixed=False, prob=None)\n",
      "VariableNode(name=e13, val=0, fixed=False, prob=None)\n",
      "VariableNode(name=e14, val=0, fixed=False, prob=None)\n",
      "VariableNode(name=e15, val=0, fixed=False, prob=None)\n",
      "VariableNode(name=e16, val=0, fixed=False, prob=None)\n",
      "VariableNode(name=e17, val=0, fixed=False, prob=None)\n",
      "VariableNode(name=exec1_et, val=1, fixed=True, prob=None)\n",
      "VariableNode(name=exec2_et, val=0, fixed=True, prob=None)\n",
      "VariableNode(name=exec2_et_2, val=0, fixed=True, prob=None)\n",
      "VariableNode(name=exec3_et, val=0, fixed=True, prob=None)\n",
      "VariableNode(name=exec4_et, val=0, fixed=True, prob=None)\n",
      "VariableNode(name=exec5_et, val=0, fixed=True, prob=None)\n",
      "0.9863864785756142\n",
      "0.11667699612342536\n",
      "0.11667699612342536\n",
      "1.0\n",
      "0.013613521424385815\n",
      "0.11667699612342536\n",
      "2.13291381996109e-05\n"
     ]
    }
   ],
   "source": [
    "temporary_variables = [\n",
    "    VariableNode(name) for name in [var.name for var in factor_graph.variables if not var.name.startswith(\"exec\")]\n",
    "]\n",
    "for variable in temporary_variables:\n",
    "    variable.val = 1 if variable.name in [\"e10\", \"e7\"] else 0\n",
    "for exec_name, result in zip(exec_names, results):\n",
    "    testnode = VariableNode(exec_name)\n",
    "    testnode.val = result\n",
    "    testnode.fix()\n",
    "    temporary_variables.append(testnode)\n",
    "for var in temporary_variables:\n",
    "    print(var)\n",
    "total_prob = 1\n",
    "for factor in factor_graph.factors:\n",
    "    prob = factor.calc_prob(temporary_variables, scope)\n",
    "    print(prob)\n",
    "    total_prob *= prob\n",
    "print(total_prob)"
   ]
  },
  {
   "cell_type": "markdown",
   "metadata": {},
   "source": [
    "그 이유는, e12가 문제라기보다, e10이 4등이 될 만큼 별로이기 때문인데, 이는 exec2가 2개이기 때문에 e10을 faulty로 설정하는게 그 만큼 probability에 큰 penalty가 되었기 때문.\n",
    "\n",
    "~~이를 해결하기 위해서 faulty execution에 적어도 하나의 buggy element가 존재한다는 factor를 넣어주자~~\n",
    "소용 없다. 어짜피 e12가 올라오는 건 multiple buggy element가 가능하기 때문이라서."
   ]
  },
  {
   "cell_type": "markdown",
   "metadata": {},
   "source": [
    "비슷하게 e7을 non faulty로 두게 되면"
   ]
  },
  {
   "cell_type": "code",
   "execution_count": 11,
   "metadata": {},
   "outputs": [
    {
     "name": "stdout",
     "output_type": "stream",
     "text": [
      "VariableNode(name=e6, val=None, fixed=False, prob=0.0015641370638418196)\n",
      "VariableNode(name=e7, val=0, fixed=True, prob=None)\n",
      "VariableNode(name=e8, val=None, fixed=False, prob=0.0015641370638418196)\n",
      "VariableNode(name=e9, val=None, fixed=False, prob=0.0015641370638418196)\n",
      "VariableNode(name=e10, val=None, fixed=False, prob=0.14341099275882224)\n",
      "VariableNode(name=e11, val=None, fixed=False, prob=0.0015641370638418207)\n",
      "VariableNode(name=e12, val=None, fixed=False, prob=0.11856478573766392)\n",
      "VariableNode(name=e13, val=None, fixed=False, prob=0.0015641370638418207)\n",
      "VariableNode(name=e14, val=None, fixed=False, prob=0.01224226494352411)\n",
      "VariableNode(name=e15, val=None, fixed=False, prob=0.0015641370638418198)\n",
      "VariableNode(name=e16, val=None, fixed=False, prob=0.8474901879533238)\n",
      "VariableNode(name=e17, val=None, fixed=False, prob=0.0015641370638418202)\n",
      "VariableNode(name=exec1_et, val=1, fixed=True, prob=None)\n",
      "VariableNode(name=exec2_et, val=0, fixed=True, prob=None)\n",
      "VariableNode(name=exec2_et_2, val=0, fixed=True, prob=None)\n",
      "VariableNode(name=exec3_et, val=0, fixed=True, prob=None)\n",
      "VariableNode(name=exec4_et, val=0, fixed=True, prob=None)\n",
      "VariableNode(name=exec5_et, val=0, fixed=True, prob=None)\n",
      "FactorNode(name=exec1_et, formula=prob_match(V[exec1_et], [V[e6], V[e7], V[e8], V[e9], V[e10], V[e11], V[e13], V[e15], V[e16], V[e17]]), prob=None)\n",
      "FactorNode(name=exec2_et, formula=prob_match(V[exec2_et], [V[e6], V[e8], V[e9], V[e10], V[e11], V[e13], V[e14], V[e15], V[e17]]), prob=None)\n",
      "FactorNode(name=exec2_et_2, formula=prob_match(V[exec2_et_2], [V[e6], V[e8], V[e9], V[e10], V[e11], V[e13], V[e14], V[e15], V[e17]]), prob=None)\n",
      "FactorNode(name=exec3_et, formula=prob_match(V[exec3_et], [V[e6], V[e8], V[e9], V[e11], V[e13], V[e15], V[e16], V[e17]]), prob=None)\n",
      "FactorNode(name=exec4_et, formula=prob_match(V[exec4_et], [V[e6], V[e7], V[e8], V[e9], V[e10], V[e11], V[e12], V[e13], V[e15], V[e17]]), prob=None)\n",
      "FactorNode(name=exec5_et, formula=prob_match(V[exec5_et], [V[e6], V[e7], V[e8], V[e9], V[e11], V[e13], V[e15], V[e16], V[e17]]), prob=None)\n",
      "\n"
     ]
    }
   ],
   "source": [
    "v_e7.val = 0\n",
    "v_e7.fix()\n",
    "factor_graph.marginal_inference_exhaustive(scope)\n",
    "print(factor_graph)"
   ]
  },
  {
   "cell_type": "markdown",
   "metadata": {},
   "source": [
    "e16이 가장 faulty하다고 하고, 다시 e16도 non faulty라고 하면"
   ]
  },
  {
   "cell_type": "code",
   "execution_count": 12,
   "metadata": {},
   "outputs": [
    {
     "name": "stdout",
     "output_type": "stream",
     "text": [
      "VariableNode(name=e6, val=None, fixed=False, prob=0.01020373633796393)\n",
      "VariableNode(name=e7, val=0, fixed=True, prob=None)\n",
      "VariableNode(name=e8, val=None, fixed=False, prob=0.01020373633796393)\n",
      "VariableNode(name=e9, val=None, fixed=False, prob=0.01020373633796393)\n",
      "VariableNode(name=e10, val=None, fixed=False, prob=0.9286182279739947)\n",
      "VariableNode(name=e11, val=None, fixed=False, prob=0.01020373633796393)\n",
      "VariableNode(name=e12, val=None, fixed=False, prob=0.08757050026577658)\n",
      "VariableNode(name=e13, val=None, fixed=False, prob=0.010203736337963929)\n",
      "VariableNode(name=e14, val=None, fixed=False, prob=0.005731340110680901)\n",
      "VariableNode(name=e15, val=None, fixed=False, prob=0.010203736337963929)\n",
      "VariableNode(name=e16, val=0, fixed=True, prob=None)\n",
      "VariableNode(name=e17, val=None, fixed=False, prob=0.010203736337963929)\n",
      "VariableNode(name=exec1_et, val=1, fixed=True, prob=None)\n",
      "VariableNode(name=exec2_et, val=0, fixed=True, prob=None)\n",
      "VariableNode(name=exec2_et_2, val=0, fixed=True, prob=None)\n",
      "VariableNode(name=exec3_et, val=0, fixed=True, prob=None)\n",
      "VariableNode(name=exec4_et, val=0, fixed=True, prob=None)\n",
      "VariableNode(name=exec5_et, val=0, fixed=True, prob=None)\n",
      "FactorNode(name=exec1_et, formula=prob_match(V[exec1_et], [V[e6], V[e7], V[e8], V[e9], V[e10], V[e11], V[e13], V[e15], V[e16], V[e17]]), prob=None)\n",
      "FactorNode(name=exec2_et, formula=prob_match(V[exec2_et], [V[e6], V[e8], V[e9], V[e10], V[e11], V[e13], V[e14], V[e15], V[e17]]), prob=None)\n",
      "FactorNode(name=exec2_et_2, formula=prob_match(V[exec2_et_2], [V[e6], V[e8], V[e9], V[e10], V[e11], V[e13], V[e14], V[e15], V[e17]]), prob=None)\n",
      "FactorNode(name=exec3_et, formula=prob_match(V[exec3_et], [V[e6], V[e8], V[e9], V[e11], V[e13], V[e15], V[e16], V[e17]]), prob=None)\n",
      "FactorNode(name=exec4_et, formula=prob_match(V[exec4_et], [V[e6], V[e7], V[e8], V[e9], V[e10], V[e11], V[e12], V[e13], V[e15], V[e17]]), prob=None)\n",
      "FactorNode(name=exec5_et, formula=prob_match(V[exec5_et], [V[e6], V[e7], V[e8], V[e9], V[e11], V[e13], V[e15], V[e16], V[e17]]), prob=None)\n",
      "\n"
     ]
    }
   ],
   "source": [
    "v_e16.val = 0\n",
    "v_e16.fix()\n",
    "factor_graph.marginal_inference_exhaustive(scope)\n",
    "print(factor_graph)"
   ]
  },
  {
   "cell_type": "markdown",
   "metadata": {},
   "source": [
    "e10이 가장 faulty하게 된다."
   ]
  },
  {
   "cell_type": "markdown",
   "metadata": {},
   "source": [
    "# Sumproduct test"
   ]
  },
  {
   "cell_type": "code",
   "execution_count": 13,
   "metadata": {},
   "outputs": [
    {
     "name": "stdout",
     "output_type": "stream",
     "text": [
      "VariableNode(name=e6, val=None, fixed=False, prob=None)\n",
      "VariableNode(name=e7, val=None, fixed=False, prob=None)\n",
      "VariableNode(name=e8, val=None, fixed=False, prob=None)\n",
      "VariableNode(name=e9, val=None, fixed=False, prob=None)\n",
      "VariableNode(name=e10, val=None, fixed=False, prob=None)\n",
      "VariableNode(name=e11, val=None, fixed=False, prob=None)\n",
      "VariableNode(name=e12, val=None, fixed=False, prob=None)\n",
      "VariableNode(name=e13, val=None, fixed=False, prob=None)\n",
      "VariableNode(name=e14, val=None, fixed=False, prob=None)\n",
      "VariableNode(name=e15, val=None, fixed=False, prob=None)\n",
      "VariableNode(name=e16, val=None, fixed=False, prob=None)\n",
      "VariableNode(name=e17, val=None, fixed=False, prob=None)\n",
      "VariableNode(name=exec1_et, val=1, fixed=True, prob=None)\n",
      "VariableNode(name=exec2_et, val=0, fixed=True, prob=None)\n",
      "VariableNode(name=exec2_et_2, val=0, fixed=True, prob=None)\n",
      "VariableNode(name=exec3_et, val=0, fixed=True, prob=None)\n",
      "VariableNode(name=exec4_et, val=0, fixed=True, prob=None)\n",
      "VariableNode(name=exec5_et, val=0, fixed=True, prob=None)\n",
      "FactorNode(name=exec1_et, formula=prob_match(V[exec1_et], [V[e6], V[e7], V[e8], V[e9], V[e10], V[e11], V[e13], V[e15], V[e16], V[e17]]), prob=None)\n",
      "FactorNode(name=exec2_et, formula=prob_match(V[exec2_et], [V[e6], V[e8], V[e9], V[e10], V[e11], V[e13], V[e14], V[e15], V[e17]]), prob=None)\n",
      "FactorNode(name=exec2_et_2, formula=prob_match(V[exec2_et_2], [V[e6], V[e8], V[e9], V[e10], V[e11], V[e13], V[e14], V[e15], V[e17]]), prob=None)\n",
      "FactorNode(name=exec3_et, formula=prob_match(V[exec3_et], [V[e6], V[e8], V[e9], V[e11], V[e13], V[e15], V[e16], V[e17]]), prob=None)\n",
      "FactorNode(name=exec4_et, formula=prob_match(V[exec4_et], [V[e6], V[e7], V[e8], V[e9], V[e10], V[e11], V[e12], V[e13], V[e15], V[e17]]), prob=None)\n",
      "FactorNode(name=exec5_et, formula=prob_match(V[exec5_et], [V[e6], V[e7], V[e8], V[e9], V[e11], V[e13], V[e15], V[e16], V[e17]]), prob=None)\n",
      "\n"
     ]
    }
   ],
   "source": [
    "v_e7.unfix()\n",
    "v_e16.unfix()\n",
    "factor_graph.reset()\n",
    "print(factor_graph)"
   ]
  },
  {
   "cell_type": "code",
   "execution_count": 14,
   "metadata": {},
   "outputs": [
    {
     "name": "stdout",
     "output_type": "stream",
     "text": [
      "iteration 0\n",
      "iteration 1\n",
      "iteration 2\n",
      "iteration 3\n",
      "Converge after 3 iterations\n",
      "VariableNode(name=e6, val=1, fixed=False, prob=0.0011642557823892496)\n",
      "VariableNode(name=e7, val=1, fixed=False, prob=0.6701783378953878)\n",
      "VariableNode(name=e8, val=1, fixed=False, prob=0.0011642557823892496)\n",
      "VariableNode(name=e9, val=1, fixed=False, prob=0.0011642557823892496)\n",
      "VariableNode(name=e10, val=1, fixed=False, prob=0.10145561847692293)\n",
      "VariableNode(name=e11, val=1, fixed=False, prob=0.0011642557823892503)\n",
      "VariableNode(name=e12, val=1, fixed=False, prob=0.12373095921070938)\n",
      "VariableNode(name=e13, val=1, fixed=False, prob=0.0011642557823892496)\n",
      "VariableNode(name=e14, val=1, fixed=False, prob=0.013419921666754929)\n",
      "VariableNode(name=e15, val=1, fixed=False, prob=0.0011642557823892498)\n",
      "VariableNode(name=e16, val=1, fixed=False, prob=0.5160910988349099)\n",
      "VariableNode(name=e17, val=1, fixed=False, prob=0.0011642557823892503)\n",
      "VariableNode(name=exec1_et, val=1, fixed=True, prob=None)\n",
      "VariableNode(name=exec2_et, val=0, fixed=True, prob=None)\n",
      "VariableNode(name=exec2_et_2, val=0, fixed=True, prob=None)\n",
      "VariableNode(name=exec3_et, val=0, fixed=True, prob=None)\n",
      "VariableNode(name=exec4_et, val=0, fixed=True, prob=None)\n",
      "VariableNode(name=exec5_et, val=0, fixed=True, prob=None)\n",
      "FactorNode(name=exec1_et, formula=prob_match(V[exec1_et], [V[e6], V[e7], V[e8], V[e9], V[e10], V[e11], V[e13], V[e15], V[e16], V[e17]]), prob=None)\n",
      "FactorNode(name=exec2_et, formula=prob_match(V[exec2_et], [V[e6], V[e8], V[e9], V[e10], V[e11], V[e13], V[e14], V[e15], V[e17]]), prob=None)\n",
      "FactorNode(name=exec2_et_2, formula=prob_match(V[exec2_et_2], [V[e6], V[e8], V[e9], V[e10], V[e11], V[e13], V[e14], V[e15], V[e17]]), prob=None)\n",
      "FactorNode(name=exec3_et, formula=prob_match(V[exec3_et], [V[e6], V[e8], V[e9], V[e11], V[e13], V[e15], V[e16], V[e17]]), prob=None)\n",
      "FactorNode(name=exec4_et, formula=prob_match(V[exec4_et], [V[e6], V[e7], V[e8], V[e9], V[e10], V[e11], V[e12], V[e13], V[e15], V[e17]]), prob=None)\n",
      "FactorNode(name=exec5_et, formula=prob_match(V[exec5_et], [V[e6], V[e7], V[e8], V[e9], V[e11], V[e13], V[e15], V[e16], V[e17]]), prob=None)\n",
      "\n"
     ]
    }
   ],
   "source": [
    "factor_graph.marginal_sum_product(scope)\n",
    "print(factor_graph)"
   ]
  }
 ],
 "metadata": {
  "interpreter": {
   "hash": "6cc4813e4c91072c9ce7257a426316b93c888c2cd0458b03d52734fa25fd1a05"
  },
  "kernelspec": {
   "display_name": "Python 3.9.7 64-bit ('3.9.7')",
   "language": "python",
   "name": "python3"
  },
  "language_info": {
   "codemirror_mode": {
    "name": "ipython",
    "version": 3
   },
   "file_extension": ".py",
   "mimetype": "text/x-python",
   "name": "python",
   "nbconvert_exporter": "python",
   "pygments_lexer": "ipython3",
   "version": "3.9.7"
  },
  "orig_nbformat": 4
 },
 "nbformat": 4,
 "nbformat_minor": 2
}
