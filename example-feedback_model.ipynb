{
 "cells": [
  {
   "cell_type": "markdown",
   "metadata": {},
   "source": [
    "### Example program\n",
    "\n",
    "- From *Kernel-based Detection of Coincidentally Correct Test Cases to Improve Fault Localization Effectiveness*\n",
    "\n",
    "```c\n",
    " e1: int Sample(int a, int b, int c) {\n",
    " e2:    int rsum, rdiv, result, rlog=0;\n",
    " e3:    result = 0;\n",
    " e4:    rdiv = 1;\n",
    " e5:    rsum = a + b;\n",
    " e6:    if ((a > 0) && (b > 0))\n",
    " e7:        rdiv = a / b;\n",
    " e8:    rmax = b;\n",
    " e9:    if (a > b)\n",
    "e10:        rmax = b; // Correct: rmax = a;\n",
    "e11:    if (c == 1)\n",
    "e12:        result = rsum;\n",
    "e13:    if (c == 2)\n",
    "e14:        result = rdiv;\n",
    "e15:    if (c == 3)\n",
    "e16:        result = rmax;\n",
    "e17:    return result;\n",
    "     }\n",
    "```"
   ]
  },
  {
   "cell_type": "code",
   "execution_count": 1,
   "metadata": {},
   "outputs": [],
   "source": [
    "%load_ext autoreload\n",
    "%autoreload 2\n",
    "\n",
    "import pandas as pd\n",
    "from factorgraph import FactorNode, VariableNode, FactorGraph\n"
   ]
  },
  {
   "cell_type": "markdown",
   "metadata": {},
   "source": [
    "# Add example bug execution data"
   ]
  },
  {
   "cell_type": "code",
   "execution_count": 3,
   "metadata": {},
   "outputs": [],
   "source": [
    "idxs = [\n",
    "    \"e6\",\n",
    "    \"e7\",\n",
    "    \"e8\",\n",
    "    \"e9\",\n",
    "    \"e10\",\n",
    "    \"e11\",\n",
    "    \"e12\",\n",
    "    \"e13\",\n",
    "    \"e14\",\n",
    "    \"e15\",\n",
    "    \"e16\",\n",
    "    \"e17\",\n",
    "]\n",
    "\n",
    "exec1_et = [0, 1, 2, 3, 4, 5, 7, 9, 10, 11]\n",
    "exec2_et = [0, 2, 3, 4, 5, 7, 8, 9, 11]\n",
    "exec2_et_2 = [0, 2, 3, 4, 5, 7, 8, 9, 11]\n",
    "exec3_et = [0, 2, 3, 5, 7, 9, 10, 11]\n",
    "exec4_et = [0, 1, 2, 3, 4, 5, 6, 7, 9, 11]\n",
    "exec5_et = [0, 1, 2, 3, 5, 7, 9, 10, 11]\n",
    "\n",
    "execs = [exec1_et, exec2_et, exec2_et_2, exec3_et, exec4_et, exec5_et]\n",
    "\n",
    "results = [1, 0, 0, 0, 0, 0]\n",
    "\n",
    "exec_names = [    \n",
    "    \"exec1_et\",\n",
    "    \"exec2_et\",\n",
    "    \"exec2_et_2\",\n",
    "    \"exec3_et\",\n",
    "    \"exec4_et\",\n",
    "    \"exec5_et\",\n",
    "]"
   ]
  },
  {
   "cell_type": "markdown",
   "metadata": {},
   "source": [
    "# Create factor graph"
   ]
  },
  {
   "cell_type": "markdown",
   "metadata": {},
   "source": [
    "## Original variable nodes"
   ]
  },
  {
   "cell_type": "code",
   "execution_count": 7,
   "metadata": {},
   "outputs": [],
   "source": [
    "variable_list = [VariableNode(idx) for idx in idxs]\n",
    "\n",
    "for exec_name, result in zip(exec_names, results):\n",
    "    trnode = VariableNode(f\"TR_{exec_name}\")\n",
    "    trnode.val = result\n",
    "    trnode.fix()\n",
    "    variable_list.append(trnode)\n"
   ]
  },
  {
   "cell_type": "markdown",
   "metadata": {},
   "source": [
    "## Add variable nodes representing whether the faulty element is covered by the execution"
   ]
  },
  {
   "cell_type": "code",
   "execution_count": 8,
   "metadata": {},
   "outputs": [],
   "source": [
    "for exec_name in zip(exec_names, results):\n",
    "    covnode = VariableNode(f\"Cov_{exec_name}\")\n",
    "    variable_list.append(covnode)"
   ]
  },
  {
   "cell_type": "code",
   "execution_count": 9,
   "metadata": {},
   "outputs": [],
   "source": [
    "def rel_tr_cov(tr, cov):\n",
    "    if tr and cov:\n",
    "        return 1\n",
    "    elif tr:\n",
    "        return 0\n",
    "    elif cov:\n",
    "        return 0.05\n",
    "    else:\n",
    "        return 0.95\n",
    "\n",
    "\n",
    "scope = {\"rel_tr_cov\": rel_tr_cov}\n",
    "factor_list = []\n",
    "for exec_name in exec_names:\n",
    "    factor_node = FactorNode(\n",
    "        f\"R_{exec_name}\", f\"rel_tr_cov(V[TR_{exec_name}], V[Cov_{exec_name}])\"\n",
    "    )\n",
    "    factor_list.append(factor_node)\n"
   ]
  },
  {
   "cell_type": "markdown",
   "metadata": {},
   "source": [
    "## Update factor nodes and generate factor graph"
   ]
  },
  {
   "cell_type": "code",
   "execution_count": null,
   "metadata": {},
   "outputs": [],
   "source": [
    "def prob_succ(elem_faulty):\n",
    "    # This one is ad-hoc one.\n",
    "    num_f = sum(elem_faulty)\n",
    "    num_c = len(elem_faulty) - num_f\n",
    "    return 0.01 ** (num_f / 1.1 ** num_c) \n",
    "\n",
    "def prob_match(result, elem_faulty):\n",
    "    return 1 - prob_succ(elem_faulty) if result else prob_succ(elem_faulty)\n",
    "\n",
    "scope[\"prob_succ\"] = prob_succ\n",
    "scope[\"prob_match\"] = prob_match\n",
    "\n",
    "\n",
    "for exec_name, et in zip(exec_names, execs):\n",
    "    covered_elems = [idxs[i] for i in et]\n",
    "    param_str = \", \".join([f\"V[{elem}]\" for elem in covered_elems])\n",
    "    factor_node = FactorNode(\n",
    "        exec_name, f\"prob_match(V[{exec_name}], [{param_str}])\")\n",
    "    factor_list.append(factor_node)\n",
    "\n",
    "factor_graph = FactorGraph(variable_list, factor_list)\n",
    "print(factor_graph)"
   ]
  }
 ],
 "metadata": {
  "interpreter": {
   "hash": "6cc4813e4c91072c9ce7257a426316b93c888c2cd0458b03d52734fa25fd1a05"
  },
  "kernelspec": {
   "display_name": "Python 3.9.7 64-bit ('3.9.7')",
   "language": "python",
   "name": "python3"
  },
  "language_info": {
   "codemirror_mode": {
    "name": "ipython",
    "version": 3
   },
   "file_extension": ".py",
   "mimetype": "text/x-python",
   "name": "python",
   "nbconvert_exporter": "python",
   "pygments_lexer": "ipython3",
   "version": "3.9.7"
  },
  "orig_nbformat": 4
 },
 "nbformat": 4,
 "nbformat_minor": 2
}
